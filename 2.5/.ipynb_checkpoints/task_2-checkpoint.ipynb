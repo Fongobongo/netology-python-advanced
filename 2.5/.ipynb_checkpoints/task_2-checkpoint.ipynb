{
 "cells": [
  {
   "cell_type": "code",
   "execution_count": 67,
   "metadata": {},
   "outputs": [],
   "source": [
    "import pandas as pd\n",
    "import os"
   ]
  },
  {
   "cell_type": "code",
   "execution_count": 68,
   "metadata": {},
   "outputs": [],
   "source": [
    "path = './names'\n",
    "files = os.listdir(path)\n",
    "txt_files = tuple(filter(lambda x: x.startswith('yob') and x.endswith('.txt'), files))\n",
    "dfs_list = []\n",
    "\n",
    "for filename in txt_files:\n",
    "    df = pd.read_csv(os.path.join(path, filename), names=['Name', 'Gender', 'Amount'])\n",
    "    df['Year'] = filename[3:7]\n",
    "    dfs_list.append(df)\n",
    "\n",
    "df = pd.concat(dfs_list)"
   ]
  },
  {
   "cell_type": "code",
   "execution_count": 69,
   "metadata": {},
   "outputs": [],
   "source": [
    "def count_dynamics(years):\n",
    "    years = [str(year) for year in years]\n",
    "    m = df[(df['Year'].isin(years)) & (df['Gender']=='M')].groupby('Year').sum()\n",
    "    f = df[(df['Year'].isin(years)) & (df['Gender']=='F')].groupby('Year').sum()\n",
    "    count_dict = {}\n",
    "    count_dict['F'] = f['Amount'].values.tolist()\n",
    "    count_dict['M'] = m['Amount'].values.tolist()\n",
    "    return count_dict"
   ]
  },
  {
   "cell_type": "code",
   "execution_count": 70,
   "metadata": {},
   "outputs": [
    {
     "name": "stdout",
     "output_type": "stream",
     "text": [
      "{'F': [299798, 1713065, 1815295], 'M': [150480, 1790437, 1963202]}\n"
     ]
    }
   ],
   "source": [
    "print(count_dynamics([1900, 1950, 2000]))"
   ]
  }
 ],
 "metadata": {
  "kernelspec": {
   "display_name": "Python 3",
   "language": "python",
   "name": "python3"
  },
  "language_info": {
   "codemirror_mode": {
    "name": "ipython",
    "version": 3
   },
   "file_extension": ".py",
   "mimetype": "text/x-python",
   "name": "python",
   "nbconvert_exporter": "python",
   "pygments_lexer": "ipython3",
   "version": "3.7.6"
  }
 },
 "nbformat": 4,
 "nbformat_minor": 4
}
