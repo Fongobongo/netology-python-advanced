{
 "cells": [
  {
   "cell_type": "code",
   "execution_count": 17,
   "metadata": {},
   "outputs": [],
   "source": [
    "import pandas as pd\n",
    "import os"
   ]
  },
  {
   "cell_type": "code",
   "execution_count": 18,
   "metadata": {},
   "outputs": [],
   "source": [
    "path = './names'\n",
    "files = os.listdir(path)\n",
    "txt_files = tuple(filter(lambda x: x.startswith('yob') and x.endswith('.txt'), files))\n",
    "dfs_list = []\n",
    "\n",
    "for filename in txt_files:\n",
    "    df = pd.read_csv(os.path.join(path, filename), names=['Name', 'Gender', 'Amount'])\n",
    "    df['Year'] = filename[3:7]\n",
    "    dfs_list.append(df)\n",
    "\n",
    "df = pd.concat(dfs_list)"
   ]
  },
  {
   "cell_type": "code",
   "execution_count": 19,
   "metadata": {},
   "outputs": [],
   "source": [
    "def count_top3(years):\n",
    "    years = [str(year) for year in years]\n",
    "    top3 = df[df['Year'].isin(years)].groupby('Name').sum().nlargest(3, ['Amount']).index.tolist()\n",
    "    return top3"
   ]
  },
  {
   "cell_type": "code",
   "execution_count": 20,
   "metadata": {},
   "outputs": [
    {
     "name": "stdout",
     "output_type": "stream",
     "text": [
      "['John', 'William', 'Mary']\n",
      "['James', 'John', 'Robert']\n"
     ]
    }
   ],
   "source": [
    "print(count_top3([1880]))\n",
    "print(count_top3([1900, 1950, 2000]))"
   ]
  },
  {
   "cell_type": "code",
   "execution_count": null,
   "metadata": {},
   "outputs": [],
   "source": []
  }
 ],
 "metadata": {
  "kernelspec": {
   "display_name": "Python 3",
   "language": "python",
   "name": "python3"
  },
  "language_info": {
   "codemirror_mode": {
    "name": "ipython",
    "version": 3
   },
   "file_extension": ".py",
   "mimetype": "text/x-python",
   "name": "python",
   "nbconvert_exporter": "python",
   "pygments_lexer": "ipython3",
   "version": "3.7.6"
  }
 },
 "nbformat": 4,
 "nbformat_minor": 4
}
